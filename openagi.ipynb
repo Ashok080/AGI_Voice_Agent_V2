{
 "cells": [
  {
   "cell_type": "code",
   "execution_count": 1,
   "id": "c043d546",
   "metadata": {
    "_cell_guid": "b1076dfc-b9ad-4769-8c92-a6c4dae69d19",
    "_uuid": "8f2839f25d086af736a60e9eeb907d3b93b6e0e5",
    "execution": {
     "iopub.execute_input": "2025-07-14T13:17:29.752388Z",
     "iopub.status.busy": "2025-07-14T13:17:29.752031Z",
     "iopub.status.idle": "2025-07-14T13:17:31.599482Z",
     "shell.execute_reply": "2025-07-14T13:17:31.598529Z"
    },
    "papermill": {
     "duration": 1.852343,
     "end_time": "2025-07-14T13:17:31.601174",
     "exception": false,
     "start_time": "2025-07-14T13:17:29.748831",
     "status": "completed"
    },
    "tags": []
   },
   "outputs": [],
   "source": [
    "# This Python 3 environment comes with many helpful analytics libraries installed\n",
    "# It is defined by the kaggle/python Docker image: https://github.com/kaggle/docker-python\n",
    "# For example, here's several helpful packages to load\n",
    "\n",
    "import numpy as np # linear algebra\n",
    "import pandas as pd # data processing, CSV file I/O (e.g. pd.read_csv)\n",
    "\n",
    "# Input data files are available in the read-only \"../input/\" directory\n",
    "# For example, running this (by clicking run or pressing Shift+Enter) will list all files under the input directory\n",
    "\n",
    "import os\n",
    "for dirname, _, filenames in os.walk('/kaggle/input'):\n",
    "    for filename in filenames:\n",
    "        print(os.path.join(dirname, filename))\n",
    "\n",
    "# You can write up to 20GB to the current directory (/kaggle/working/) that gets preserved as output when you create a version using \"Save & Run All\" \n",
    "# You can also write temporary files to /kaggle/temp/, but they won't be saved outside of the current session"
   ]
  },
  {
   "cell_type": "code",
   "execution_count": 2,
   "id": "87c7dc6c",
   "metadata": {
    "execution": {
     "iopub.execute_input": "2025-07-14T13:17:31.605946Z",
     "iopub.status.busy": "2025-07-14T13:17:31.605544Z",
     "iopub.status.idle": "2025-07-14T13:17:31.705402Z",
     "shell.execute_reply": "2025-07-14T13:17:31.703892Z"
    },
    "papermill": {
     "duration": 0.103793,
     "end_time": "2025-07-14T13:17:31.706968",
     "exception": true,
     "start_time": "2025-07-14T13:17:31.603175",
     "status": "failed"
    },
    "tags": []
   },
   "outputs": [
    {
     "ename": "ModuleNotFoundError",
     "evalue": "No module named 'openagi'",
     "output_type": "error",
     "traceback": [
      "\u001b[0;31m---------------------------------------------------------------------------\u001b[0m",
      "\u001b[0;31mModuleNotFoundError\u001b[0m                       Traceback (most recent call last)",
      "\u001b[0;32m/tmp/ipykernel_13/2475248665.py\u001b[0m in \u001b[0;36m<cell line: 0>\u001b[0;34m()\u001b[0m\n\u001b[1;32m      1\u001b[0m \u001b[0;32mimport\u001b[0m \u001b[0mos\u001b[0m\u001b[0;34m\u001b[0m\u001b[0;34m\u001b[0m\u001b[0m\n\u001b[0;32m----> 2\u001b[0;31m \u001b[0;32mfrom\u001b[0m \u001b[0mopenagi\u001b[0m\u001b[0;34m.\u001b[0m\u001b[0magent\u001b[0m \u001b[0;32mimport\u001b[0m \u001b[0mAdmin\u001b[0m\u001b[0;34m\u001b[0m\u001b[0;34m\u001b[0m\u001b[0m\n\u001b[0m\u001b[1;32m      3\u001b[0m \u001b[0;32mfrom\u001b[0m \u001b[0mopenagi\u001b[0m\u001b[0;34m.\u001b[0m\u001b[0mllms\u001b[0m\u001b[0;34m.\u001b[0m\u001b[0mopenai\u001b[0m \u001b[0;32mimport\u001b[0m \u001b[0mOpenAIModel\u001b[0m\u001b[0;34m\u001b[0m\u001b[0;34m\u001b[0m\u001b[0m\n\u001b[1;32m      4\u001b[0m \u001b[0;32mfrom\u001b[0m \u001b[0mopenagi\u001b[0m\u001b[0;34m.\u001b[0m\u001b[0mmemory\u001b[0m \u001b[0;32mimport\u001b[0m \u001b[0mMemory\u001b[0m\u001b[0;34m\u001b[0m\u001b[0;34m\u001b[0m\u001b[0m\n\u001b[1;32m      5\u001b[0m \u001b[0;32mfrom\u001b[0m \u001b[0mopenagi\u001b[0m\u001b[0;34m.\u001b[0m\u001b[0mplanner\u001b[0m\u001b[0;34m.\u001b[0m\u001b[0mtask_decomposer\u001b[0m \u001b[0;32mimport\u001b[0m \u001b[0mTaskPlanner\u001b[0m\u001b[0;34m\u001b[0m\u001b[0;34m\u001b[0m\u001b[0m\n",
      "\u001b[0;31mModuleNotFoundError\u001b[0m: No module named 'openagi'"
     ]
    }
   ],
   "source": [
    "import os\n",
    "from openagi.agent import Admin\n",
    "from openagi.llms.openai import OpenAIModel\n",
    "from openagi.memory import Memory\n",
    "from openagi.planner.task_decomposer import TaskPlanner\n",
    "from openagi.worker import Worker\n",
    "from openagi.actions.tools.ddg_search import DuckDuckGoSearch\n",
    "\n",
    "memory = Memory(long_term=True)\n",
    "\n",
    "os.environ['OPENAI_API_KEY'] = \"-\"\n",
    "config = OpenAIModel.load_from_env_config()\n",
    "llm = OpenAIModel(config=config)\n",
    "\n",
    "web_searcher = Worker(\n",
    "    role=\"Web Researcher\",\n",
    "    instructions=\"\"\"\n",
    "    You are tasked with conducting web searches using DuckDuckGo.\n",
    "    Find the most relevant and accurate information based on the user's query.\n",
    "    \"\"\",\n",
    "    actions=[DuckDuckGoSearch], \n",
    ")\n",
    "\n",
    "admin = Admin(\n",
    "    actions=[DuckDuckGoSearch],\n",
    "    planner=TaskPlanner(human_intervene=False),\n",
    "    memory=memory,\n",
    "    llm=llm,\n",
    ")\n",
    "admin.assign_workers([web_searcher])\n",
    "\n",
    "query = input(\"Enter your search query: \")\n",
    "description = f\"Find accurate and relevant information for the query: {query}\"\n",
    "\n",
    "res = admin.run(query=query,description=description)\n",
    "print(res)"
   ]
  },
  {
   "cell_type": "code",
   "execution_count": null,
   "id": "286ff9ac",
   "metadata": {
    "papermill": {
     "duration": null,
     "end_time": null,
     "exception": null,
     "start_time": null,
     "status": "pending"
    },
    "tags": []
   },
   "outputs": [],
   "source": [
    "from openagi.agent import Admin\n",
    "from openagi.planner.task_decomposer import TaskPlanner\n",
    "from openagi.actions.tools.ddg_search import DuckDuckGoSearch\n",
    "from openagi.llms.openai import OpenAIModel\n",
    "from openagi.worker import Worker\n",
    "\n",
    "plan = TaskPlanner(human_intervene=False)\n",
    "action = DuckDuckGoSearch\n",
    "\n",
    "import os\n",
    "os.environ['OPENAI_API_KEY'] = \"sk-xxxx\"\n",
    "config = OpenAIModel.load_from_env_config()\n",
    "llm = OpenAIModel(config=config)\n",
    "\n",
    "trip_plan = Worker(\n",
    "        role=\"Trip Planner\",\n",
    "        instructions=\"\"\"\n",
    "        User loves calm places, suggest the best itinerary accordingly.\n",
    "        \"\"\",\n",
    "        actions=[action],\n",
    "        max_iterations=10)\n",
    "\n",
    "admin = Admin(\n",
    "    llm=llm,\n",
    "    actions=[action],\n",
    "    planner=plan,\n",
    ")\n",
    "admin.assign_workers([trip_plan])\n",
    "\n",
    "res = admin.run(\n",
    "    query=\"Give me total 3 Days Trip to San francisco Bay area\",\n",
    "    description=\"You are a knowledgeable local guide with extensive information about the city, it's attractions and customs\",\n",
    ")\n",
    "print(res)"
   ]
  }
 ],
 "metadata": {
  "kaggle": {
   "accelerator": "none",
   "dataSources": [],
   "isGpuEnabled": false,
   "isInternetEnabled": true,
   "language": "python",
   "sourceType": "notebook"
  },
  "kernelspec": {
   "display_name": "Python 3",
   "language": "python",
   "name": "python3"
  },
  "language_info": {
   "codemirror_mode": {
    "name": "ipython",
    "version": 3
   },
   "file_extension": ".py",
   "mimetype": "text/x-python",
   "name": "python",
   "nbconvert_exporter": "python",
   "pygments_lexer": "ipython3",
   "version": "3.11.13"
  },
  "papermill": {
   "default_parameters": {},
   "duration": 7.45053,
   "end_time": "2025-07-14T13:17:32.228035",
   "environment_variables": {},
   "exception": true,
   "input_path": "__notebook__.ipynb",
   "output_path": "__notebook__.ipynb",
   "parameters": {},
   "start_time": "2025-07-14T13:17:24.777505",
   "version": "2.6.0"
  }
 },
 "nbformat": 4,
 "nbformat_minor": 5
}
